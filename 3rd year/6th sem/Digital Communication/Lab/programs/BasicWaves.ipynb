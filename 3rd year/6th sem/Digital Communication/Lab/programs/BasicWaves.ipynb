{
 "cells": [
  {
   "cell_type": "code",
   "execution_count": null,
   "metadata": {},
   "outputs": [
    {
     "ename": "",
     "evalue": "",
     "output_type": "error",
     "traceback": [
      "\u001b[1;31mRunning cells with 'Python 3.11.7' requires the ipykernel package.\n",
      "\u001b[1;31mRun the following command to install 'ipykernel' into the Python environment. \n",
      "\u001b[1;31mCommand: 'c:/msys64/ucrt64/bin/python.exe -m pip install ipykernel -U --user --force-reinstall'"
     ]
    }
   ],
   "source": [
    "import numpy as np\n",
    "import matplotlib.pyplot as plt\n",
    "\n",
    "t = np.arange(0,3,0.01) # (start,end-1,step) isse hum decide karte hai kitne time tak lena hai\n",
    "\n",
    "\n",
    "f = 2 # 1 second my kitne wave aayegi \n",
    "\n",
    "T = 1/f # wave ka time period issy pata lagega ,time period 2 means 2 second my ek wave complete hogi\n",
    "\n",
    "\n",
    "# print(t)\n",
    "x  = np.sin(2*np.pi*f*t)\n",
    "\n",
    "\n",
    "plt.plot(t,x)\n",
    "# print(x)"
   ]
  }
 ],
 "metadata": {
  "kernelspec": {
   "display_name": "Python 3",
   "language": "python",
   "name": "python3"
  },
  "language_info": {
   "codemirror_mode": {
    "name": "ipython",
    "version": 3
   },
   "file_extension": ".py",
   "mimetype": "text/x-python",
   "name": "python",
   "nbconvert_exporter": "python",
   "pygments_lexer": "ipython3",
   "version": "3.11.7"
  }
 },
 "nbformat": 4,
 "nbformat_minor": 2
}
